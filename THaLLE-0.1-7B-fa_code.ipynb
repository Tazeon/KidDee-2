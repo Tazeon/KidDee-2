{
 "cells": [
  {
   "cell_type": "code",
   "execution_count": 1,
   "id": "9100e88d",
   "metadata": {},
   "outputs": [
    {
     "name": "stdout",
     "output_type": "stream",
     "text": [
      "CPU: x86_64\n",
      "Cores: 64, Threads: 64\n",
      "RAM: 502.44 GB\n",
      "GPU(s): [('NVIDIA A100-SXM4-40GB', '40960.0MB')]\n"
     ]
    }
   ],
   "source": [
    "import platform\n",
    "import psutil\n",
    "\n",
    "# CPU Info\n",
    "def get_cpu_info():\n",
    "    cpu_name = platform.processor()\n",
    "    cpu_cores = psutil.cpu_count(logical=False)\n",
    "    cpu_threads = psutil.cpu_count(logical=True)\n",
    "    return cpu_name, cpu_cores, cpu_threads\n",
    "\n",
    "# RAM Info\n",
    "def get_ram_info():\n",
    "    ram = psutil.virtual_memory().total / (1024 ** 3)  # Convert from bytes to GB\n",
    "    return round(ram, 2)\n",
    "\n",
    "# GPU Info (requires 'GPUtil' library)\n",
    "def get_gpu_info():\n",
    "    try:\n",
    "        import GPUtil\n",
    "        gpus = GPUtil.getGPUs()\n",
    "        if not gpus:\n",
    "            return \"No GPU detected\"\n",
    "        return [(gpu.name, f\"{gpu.memoryTotal}MB\") for gpu in gpus]\n",
    "    except ImportError:\n",
    "        return \"GPUtil not installed. Install via 'pip install gputil'\"\n",
    "\n",
    "# Print System Info\n",
    "cpu_name, cores, threads = get_cpu_info()\n",
    "print(f\"CPU: {cpu_name}\")\n",
    "print(f\"Cores: {cores}, Threads: {threads}\")\n",
    "print(f\"RAM: {get_ram_info()} GB\")\n",
    "print(f\"GPU(s): {get_gpu_info()}\")\n"
   ]
  },
  {
   "cell_type": "code",
   "execution_count": 2,
   "id": "6b7159fb",
   "metadata": {},
   "outputs": [
    {
     "name": "stdout",
     "output_type": "stream",
     "text": [
      "===== SLURM Allocation Information =====\n",
      "Allocated CPU cores: 16\n",
      "Allocated Memory per node (MB): 102400\n",
      "Allocated GPUs: 1\n",
      "Allocated GPU IDs: 1\n",
      "Total Tasks Allocated: Unknown\n",
      "Total Nodes Allocated: 1\n",
      "=========================================\n"
     ]
    }
   ],
   "source": [
    "import os\n",
    "\n",
    "print(\"===== SLURM Allocation Information =====\")\n",
    "\n",
    "# Number of CPU cores allocated\n",
    "cpus = os.getenv(\"SLURM_CPUS_ON_NODE\", \"Unknown\")\n",
    "print(f\"Allocated CPU cores: {cpus}\")\n",
    "\n",
    "# Total memory allocated per node (in MB)\n",
    "mem_mb = os.getenv(\"SLURM_MEM_PER_NODE\", \"Unknown\")\n",
    "print(f\"Allocated Memory per node (MB): {mem_mb}\")\n",
    "\n",
    "# Number of GPUs allocated\n",
    "gpus = os.getenv(\"SLURM_GPUS_ON_NODE\", \"Unknown\")\n",
    "print(f\"Allocated GPUs: {gpus}\")\n",
    "\n",
    "# GPU resource string (alternative format, if available)\n",
    "gres = os.getenv(\"SLURM_JOB_GPUS\", \"Unknown\")\n",
    "print(f\"Allocated GPU IDs: {gres}\")\n",
    "\n",
    "# Total tasks allocated\n",
    "tasks = os.getenv(\"SLURM_NTASKS\", \"Unknown\")\n",
    "print(f\"Total Tasks Allocated: {tasks}\")\n",
    "\n",
    "# Number of nodes\n",
    "nodes = os.getenv(\"SLURM_JOB_NUM_NODES\", \"Unknown\")\n",
    "print(f\"Total Nodes Allocated: {nodes}\")\n",
    "\n",
    "print(\"=========================================\")\n"
   ]
  },
  {
   "cell_type": "code",
   "execution_count": 3,
   "id": "d6bf9073",
   "metadata": {},
   "outputs": [
    {
     "name": "stdout",
     "output_type": "stream",
     "text": [
      "\u001b[33mWARNING: Retrying (Retry(total=4, connect=None, read=None, redirect=None, status=None)) after connection broken by 'NewConnectionError('<pip._vendor.urllib3.connection.HTTPSConnection object at 0x7fdf87ed0370>: Failed to establish a new connection: [Errno 101] Network is unreachable')': /simple/huggingface-hub/\u001b[0m\u001b[33m\n",
      "\u001b[0m\u001b[33mWARNING: Retrying (Retry(total=3, connect=None, read=None, redirect=None, status=None)) after connection broken by 'NewConnectionError('<pip._vendor.urllib3.connection.HTTPSConnection object at 0x7fdf87ed06a0>: Failed to establish a new connection: [Errno 101] Network is unreachable')': /simple/huggingface-hub/\u001b[0m\u001b[33m\n",
      "\u001b[0m^C\n",
      "\u001b[31mERROR: Operation cancelled by user\u001b[0m\u001b[31m\n",
      "\u001b[0m"
     ]
    }
   ],
   "source": [
    "!pip install huggingface-hub==0.24.7 llama-cpp-python==0.3.1"
   ]
  },
  {
   "cell_type": "code",
   "execution_count": 4,
   "id": "a4e92177",
   "metadata": {},
   "outputs": [
    {
     "name": "stdout",
     "output_type": "stream",
     "text": [
      "Tue Jun 24 14:12:30 2025       \n",
      "+-----------------------------------------------------------------------------------------+\n",
      "| NVIDIA-SMI 565.57.01              Driver Version: 565.57.01      CUDA Version: 12.7     |\n",
      "|-----------------------------------------+------------------------+----------------------+\n",
      "| GPU  Name                 Persistence-M | Bus-Id          Disp.A | Volatile Uncorr. ECC |\n",
      "| Fan  Temp   Perf          Pwr:Usage/Cap |           Memory-Usage | GPU-Util  Compute M. |\n",
      "|                                         |                        |               MIG M. |\n",
      "|=========================================+========================+======================|\n",
      "|   0  NVIDIA A100-SXM4-40GB          On  |   00000000:81:00.0 Off |                    0 |\n",
      "| N/A   36C    P0             51W /  400W |       1MiB /  40960MiB |      0%      Default |\n",
      "|                                         |                        |             Disabled |\n",
      "+-----------------------------------------+------------------------+----------------------+\n",
      "                                                                                         \n",
      "+-----------------------------------------------------------------------------------------+\n",
      "| Processes:                                                                              |\n",
      "|  GPU   GI   CI        PID   Type   Process name                              GPU Memory |\n",
      "|        ID   ID                                                               Usage      |\n",
      "|=========================================================================================|\n",
      "|  No running processes found                                                             |\n",
      "+-----------------------------------------------------------------------------------------+\n"
     ]
    }
   ],
   "source": [
    "!nvidia-smi"
   ]
  },
  {
   "cell_type": "code",
   "execution_count": 6,
   "id": "bd50b0ac",
   "metadata": {},
   "outputs": [
    {
     "name": "stdout",
     "output_type": "stream",
     "text": [
      "The history saving thread hit an unexpected error (OperationalError('disk I/O error')).History will not be written to the database.\n",
      "^C\n",
      "\u001b[31mERROR: Operation cancelled by user\u001b[0m\u001b[31m\n",
      "\u001b[0m"
     ]
    }
   ],
   "source": [
    "!pip install llama-cpp-python\n"
   ]
  },
  {
   "cell_type": "code",
   "execution_count": 15,
   "id": "0519b892",
   "metadata": {},
   "outputs": [
    {
     "data": {
      "application/vnd.jupyter.widget-view+json": {
       "model_id": "ad263a893cda49248e597f3c04470fc4",
       "version_major": 2,
       "version_minor": 0
      },
      "text/plain": [
       "Loading checkpoint shards:   0%|          | 0/4 [00:00<?, ?it/s]"
      ]
     },
     "metadata": {},
     "output_type": "display_data"
    }
   ],
   "source": [
    "import re\n",
    "import torch\n",
    "import pandas as pd\n",
    "from tqdm import tqdm\n",
    "from transformers import AutoModelForCausalLM, AutoTokenizer\n",
    "\n",
    "MODEL_PATH = \"/project/ai901501-ai0001/menth/models/THaLLE-0.1-7B-fa\"\n",
    "tokenizer = AutoTokenizer.from_pretrained(MODEL_PATH)\n",
    "\n",
    "# Load Model\n",
    "model = AutoModelForCausalLM.from_pretrained(\n",
    "    MODEL_PATH,\n",
    "    torch_dtype=torch.bfloat16,\n",
    "    device_map=\"auto\",\n",
    ")\n",
    "\n"
   ]
  },
  {
   "cell_type": "code",
   "execution_count": 20,
   "id": "9ec4fa13",
   "metadata": {},
   "outputs": [],
   "source": [
    "# Inference Function\n",
    "def inference(messages: list[dict[str, str]], model, tokenizer) -> str:\n",
    "    text = tokenizer.apply_chat_template(\n",
    "        messages,\n",
    "        tokenize=False,\n",
    "        add_generation_prompt=True,\n",
    "    )\n",
    "    model_inputs = tokenizer([text], return_tensors=\"pt\").to(model.device)\n",
    "\n",
    "    generated_ids = model.generate(\n",
    "        model_inputs.input_ids,\n",
    "        max_new_tokens=768,\n",
    "        do_sample=False,\n",
    "        temperature=None,\n",
    "        top_p=None,\n",
    "        top_k=None,\n",
    "    )\n",
    "    generated_ids = [\n",
    "        output_ids[len(input_ids):]\n",
    "        for input_ids, output_ids in zip(model_inputs.input_ids, generated_ids)\n",
    "    ]\n",
    "\n",
    "    response = tokenizer.batch_decode(generated_ids, skip_special_tokens=True)[0]\n",
    "    \n",
    "    # Extract only valid answer (A, B, D, E, Rise, Fall)\n",
    "    \n",
    "    match = re.search(r\"\\b([ABCDE]|Rise|Fall)\\b\", response)\n",
    "    if match:\n",
    "        return match.group(0)\n",
    "    else:\n",
    "        print(\"Not Match: \", response)\n",
    "        return \"No valid answer found in the response.\"\n",
    "    \n"
   ]
  },
  {
   "cell_type": "code",
   "execution_count": 17,
   "id": "906ec6f2",
   "metadata": {},
   "outputs": [],
   "source": [
    "questions = pd.read_csv(\"/project/ai901501-ai0001/menth/dataset/test.csv\")"
   ]
  },
  {
   "cell_type": "code",
   "execution_count": 21,
   "id": "45e470c9",
   "metadata": {},
   "outputs": [
    {
     "name": "stderr",
     "output_type": "stream",
     "text": [
      " 29%|██▉       | 146/499 [01:19<01:06,  5.31it/s]"
     ]
    },
    {
     "name": "stdout",
     "output_type": "stream",
     "text": [
      "Not Match:  ขึ้น\n"
     ]
    },
    {
     "name": "stderr",
     "output_type": "stream",
     "text": [
      " 37%|███▋      | 187/499 [01:42<07:58,  1.53s/it]"
     ]
    },
    {
     "name": "stdout",
     "output_type": "stream",
     "text": [
      "Not Match:  ข้อมูลที่ให้มาไม่เพียงพอสำหรับการวิเคราะห์แนวโน้มการเปลี่ยนแปลงของราคาปิดของ $gild ในวันที่ 30 พฤศจิกายน 2017 แต่ข้อมูลที่มีอยู่แสดงถึงการปรับตัวขึ้นของราคา $gild ในวันที่ 16 และ 17 พฤศจิกายน 2017 ดังนั้น ข้อความทวีตที่มีอยู่อาจส่งเสริมให้คาดการณ์ว่าราคาจะปรับตัวขึ้นในวันที่ 30 พฤศจิกายน 2017 แต่ข้อมูลที่มีอยู่ไม่เพียงพอสำหรับการตัดสินใจที่มั่นคง. \n",
      "\n",
      "Answer: ข้อมูลไม่เพียงพอ\n"
     ]
    },
    {
     "name": "stderr",
     "output_type": "stream",
     "text": [
      " 56%|█████▌    | 279/499 [02:35<01:09,  3.15it/s]"
     ]
    },
    {
     "name": "stdout",
     "output_type": "stream",
     "text": [
      "Not Match:  เพิ่มขึ้น\n"
     ]
    },
    {
     "name": "stderr",
     "output_type": "stream",
     "text": [
      " 71%|███████▏  | 356/499 [03:30<00:51,  2.77it/s]"
     ]
    },
    {
     "name": "stdout",
     "output_type": "stream",
     "text": [
      "Not Match:  เพิ่มขึ้น\n"
     ]
    },
    {
     "name": "stderr",
     "output_type": "stream",
     "text": [
      "100%|██████████| 499/499 [04:51<00:00,  1.71it/s]"
     ]
    },
    {
     "name": "stdout",
     "output_type": "stream",
     "text": [
      "                                     id answer\n",
      "0  36deab86-cfd3-48b5-9bea-a36c1b0e63a8      C\n",
      "1  2b5bbd26-45e8-4768-ab8a-b5dc1d153ab7      B\n",
      "2  8a722080-bc16-49db-89c9-100cd61cd28a      A\n",
      "3  75316e95-88f4-4fef-83b9-dde0aa52889a      A\n",
      "4  bcca13bc-2675-4645-82cc-7e4c412ed294   Rise\n"
     ]
    },
    {
     "name": "stderr",
     "output_type": "stream",
     "text": [
      "\n"
     ]
    }
   ],
   "source": [
    "# Load Questions\n",
    "\n",
    "SYSTEM_PROMPT = \"\"\"\n",
    "You are a CFA (chartered financial analyst) taking a test to evaluate your knowledge of finance.\n",
    "Your sole task is to answer the questions provided to you by selecting the correct option only.\n",
    "\n",
    "Permitted answer formats:\n",
    "\n",
    "For multiple choice questions, respond with exactly one of: A, B, C, D, or E\n",
    "\n",
    "For market prediction questions, respond with exactly: Rise or Fall\n",
    "\n",
    "Do not provide reasoning, explanations, or extra information. Respond with the correct answer only.\n",
    "\n",
    "Example:\n",
    "\n",
    "Question: Which monetary policy is most likely to reduce inflation?\n",
    "Answer Choices: A: Lower interest rates, B: Increase money supply, C: Raise interest rates, D: Expand government spending\n",
    "Answer: D\n",
    "\n",
    "Or\n",
    "\n",
    "Question: Based on market data, will $INTC's closing price on 2018-01-23 rise or fall?\n",
    "Answer Choices: Rise or Fall\n",
    "Answer: Rise\n",
    "\n",
    "From now on, strictly follow these instructions when answering\n",
    "\"\"\"\n",
    "# Inference Loop\n",
    "results = []\n",
    "\n",
    "for row in tqdm(questions.to_dict(orient=\"records\")):\n",
    "    question = row['query']\n",
    "    \n",
    "    messages = [\n",
    "        {\"role\": \"system\", \"content\": SYSTEM_PROMPT},\n",
    "        {\"role\": \"user\", \"content\": question},\n",
    "    ]\n",
    "    \n",
    "    answer = inference(messages, model, tokenizer)\n",
    "    results.append({\"id\": row['id'], \"answer\": answer})\n",
    "\n",
    "# Results DataFrame\n",
    "answer_df = pd.DataFrame(results)\n",
    "print(answer_df.head())\n"
   ]
  },
  {
   "cell_type": "code",
   "execution_count": 22,
   "id": "1b896de1",
   "metadata": {},
   "outputs": [
    {
     "data": {
      "text/html": [
       "<div>\n",
       "<style scoped>\n",
       "    .dataframe tbody tr th:only-of-type {\n",
       "        vertical-align: middle;\n",
       "    }\n",
       "\n",
       "    .dataframe tbody tr th {\n",
       "        vertical-align: top;\n",
       "    }\n",
       "\n",
       "    .dataframe thead th {\n",
       "        text-align: right;\n",
       "    }\n",
       "</style>\n",
       "<table border=\"1\" class=\"dataframe\">\n",
       "  <thead>\n",
       "    <tr style=\"text-align: right;\">\n",
       "      <th></th>\n",
       "      <th>id</th>\n",
       "      <th>answer</th>\n",
       "    </tr>\n",
       "  </thead>\n",
       "  <tbody>\n",
       "    <tr>\n",
       "      <th>0</th>\n",
       "      <td>36deab86-cfd3-48b5-9bea-a36c1b0e63a8</td>\n",
       "      <td>C</td>\n",
       "    </tr>\n",
       "    <tr>\n",
       "      <th>1</th>\n",
       "      <td>2b5bbd26-45e8-4768-ab8a-b5dc1d153ab7</td>\n",
       "      <td>B</td>\n",
       "    </tr>\n",
       "    <tr>\n",
       "      <th>2</th>\n",
       "      <td>8a722080-bc16-49db-89c9-100cd61cd28a</td>\n",
       "      <td>A</td>\n",
       "    </tr>\n",
       "    <tr>\n",
       "      <th>3</th>\n",
       "      <td>75316e95-88f4-4fef-83b9-dde0aa52889a</td>\n",
       "      <td>A</td>\n",
       "    </tr>\n",
       "    <tr>\n",
       "      <th>4</th>\n",
       "      <td>bcca13bc-2675-4645-82cc-7e4c412ed294</td>\n",
       "      <td>Rise</td>\n",
       "    </tr>\n",
       "    <tr>\n",
       "      <th>...</th>\n",
       "      <td>...</td>\n",
       "      <td>...</td>\n",
       "    </tr>\n",
       "    <tr>\n",
       "      <th>494</th>\n",
       "      <td>c9dd262e-405c-4078-baae-262aa48ddcc8</td>\n",
       "      <td>A</td>\n",
       "    </tr>\n",
       "    <tr>\n",
       "      <th>495</th>\n",
       "      <td>73c720b5-1101-4790-af52-3366823e1d32</td>\n",
       "      <td>B</td>\n",
       "    </tr>\n",
       "    <tr>\n",
       "      <th>496</th>\n",
       "      <td>357db18f-d872-416e-a07f-753099853d9c</td>\n",
       "      <td>D</td>\n",
       "    </tr>\n",
       "    <tr>\n",
       "      <th>497</th>\n",
       "      <td>2d8b1419-1c46-4e83-892a-081fb417de38</td>\n",
       "      <td>Rise</td>\n",
       "    </tr>\n",
       "    <tr>\n",
       "      <th>498</th>\n",
       "      <td>0ef677d5-2858-407c-9fd5-49d8afbeaaac</td>\n",
       "      <td>C</td>\n",
       "    </tr>\n",
       "  </tbody>\n",
       "</table>\n",
       "<p>499 rows × 2 columns</p>\n",
       "</div>"
      ],
      "text/plain": [
       "                                       id answer\n",
       "0    36deab86-cfd3-48b5-9bea-a36c1b0e63a8      C\n",
       "1    2b5bbd26-45e8-4768-ab8a-b5dc1d153ab7      B\n",
       "2    8a722080-bc16-49db-89c9-100cd61cd28a      A\n",
       "3    75316e95-88f4-4fef-83b9-dde0aa52889a      A\n",
       "4    bcca13bc-2675-4645-82cc-7e4c412ed294   Rise\n",
       "..                                    ...    ...\n",
       "494  c9dd262e-405c-4078-baae-262aa48ddcc8      A\n",
       "495  73c720b5-1101-4790-af52-3366823e1d32      B\n",
       "496  357db18f-d872-416e-a07f-753099853d9c      D\n",
       "497  2d8b1419-1c46-4e83-892a-081fb417de38   Rise\n",
       "498  0ef677d5-2858-407c-9fd5-49d8afbeaaac      C\n",
       "\n",
       "[499 rows x 2 columns]"
      ]
     },
     "execution_count": 22,
     "metadata": {},
     "output_type": "execute_result"
    }
   ],
   "source": [
    "answer_df"
   ]
  },
  {
   "cell_type": "code",
   "execution_count": 23,
   "id": "d54dbaac",
   "metadata": {},
   "outputs": [
    {
     "name": "stderr",
     "output_type": "stream",
     "text": [
      "/tmp/ipykernel_519358/2890839363.py:8: FutureWarning: \n",
      "\n",
      "Passing `palette` without assigning `hue` is deprecated and will be removed in v0.14.0. Assign the `x` variable to `hue` and set `legend=False` for the same effect.\n",
      "\n",
      "  sns.barplot(x=answer_counts.index, y=answer_counts.values, palette='viridis')\n"
     ]
    },
    {
     "data": {
      "image/png": "[encoded data removed]",
      "text/plain": [
       "<Figure size 1000x600 with 1 Axes>"
      ]
     },
     "metadata": {},
     "output_type": "display_data"
    }
   ],
   "source": [
    "#plot the model has answers count A,B,C,D,E , Rise Fall\n",
    "import matplotlib.pyplot as plt\n",
    "import seaborn as sns\n",
    "# Count answers\n",
    "answer_counts = answer_df['answer'].value_counts()\n",
    "# Create a bar plot\n",
    "plt.figure(figsize=(10, 6))\n",
    "sns.barplot(x=answer_counts.index, y=answer_counts.values, palette='viridis')\n",
    "plt.title('Distribution of Answers')\n",
    "plt.xlabel('Answer')\n",
    "plt.ylabel('Count')\n",
    "plt.xticks(rotation=45)\n",
    "plt.grid(axis='y')\n",
    "plt.show()"
   ]
  },
  {
   "cell_type": "code",
   "execution_count": 24,
   "id": "07f645d8",
   "metadata": {},
   "outputs": [
    {
     "name": "stdout",
     "output_type": "stream",
     "text": [
      "Results saved to /project/ai901501-ai0001/menth/submissions/thalle_0.1_7b_fa_1.csv\n"
     ]
    }
   ],
   "source": [
    "# Save results to CSV\n",
    "output_path = \"/project/ai901501-ai0001/menth/submissions/\"\n",
    "file_name = \"thalle_0.1_7b_fa_1.csv\"\n",
    "answer_df.to_csv(f\"{output_path}{file_name}\", index=False)\n",
    "print(f\"Results saved to {output_path}{file_name}\")\n"
   ]
  },
  {
   "cell_type": "code",
   "execution_count": 33,
   "id": "f9888c68",
   "metadata": {},
   "outputs": [
    {
     "name": "stdout",
     "output_type": "stream",
     "text": [
      "วิเคราะห์ข้อมูลและทวีตต่างๆ เพื่อพิจารณาว่าราคาปิดของ $gild จะปรับตัวขึ้นหรือลงในวันที่ 30 พฤศจิกายน 2017 โปรดระบุว่าขึ้นหรือลง  \\nบริบท: วันที่, เปิด, สูง, ต่ำ, ปิด, ปิดปรับ, เพิ่ม 5%, เพิ่ม 10%, เพิ่ม 15%, เพิ่ม 20%, เพิ่ม 25%, เพิ่ม 30  \\n2017-11-15, -1.6, 0.4, -1.8, 0.9, 0.9, 1.0, 1.5, 3.0, 5.3, 6.7, 8.1  \\n2017-11-16, -0.9, 0.3, -1.6, 0.8, 0.8, -0.0, 0.4, 1.6, 3.8, 5.3, 6.7  \\n2017-11-17, -0.2, 0.2, -0.4, 0.0, 0.0, -0.4, 0.2, 1.2, 3.1, 4.8, 6.2  \\n2017-11-20, 0.4, 0.7, -0.8, -0.4, -0.4, -0.2, 0.6, 1.2, 3.0, 4.8, 6.2  \\n2017-11-21, -0.6, 0.5, -1.0, 0.5, 0.5, -0.3, 0.0, 0.5, 2.0, 3.8, 5.1  \\n2017-11-22, -0.5, 0.4, -0.6, 0.4, 0.4, -0.5, -0.5, -0.1, 1.0, 3.0, 4.2  \\n2017-11-24, 0.4, 0.6, -0.3, -0.5, -0.5, 0.0, -0.0, 0.2, 1.2, 3.0, 4.4  \\n2017-11-27, 1.1, 1.3, -0.3, -1.0, -1.0, 0.9, 0.7, 1.1, 1.9, 3.5, 5.0  \\n2017-11-28, -0.6, 0.1, -1.6, 1.2, 1.2, -0.2, -0.5, -0.1, 0.4, 1.9, 3.4  \\n2017-11-29, -1.1, 0.7, -1.5, 1.5, 1.5, -1.4, -1.7, -1.5, -1.2, 0.0, 1.6  \\n\\n2017-11-15: อย่าพลาดโอกาสซื้อขายตัวเลือกฟรีครั้งต่อไปของเรา สมัครรับการซื้อขายฟรีรายวันได้ที่ $nvda $tsla $gs $gild $biib $googl $fb | ราคาตอบสนองเทียบกับความเคลื่อนไหวรายวันที่คาดการณ์ไว้ $teva $vrx $srpt $opk $celg $mrk $gild $agn $a  \\n2017-11-16: กิลิแอด ไซเอนเซส $gild ปรับตัวขึ้นเป็นวันที่สอง เพิ่มขึ้น 0.8% มาอยู่ที่ 72.41 ดอลลาร์ พื้นที่ขายขายอยู่ที่ประมาณ 70.05 FPE 10s | $gild ดูแนวโน้มขาขึ้นเพิ่มเติมจากระดับนี้ | $gild กำลังทดสอบแรงต้านจากด้านล่าง จำเป็นต้อง...  \\n2017-11-17: อย่าพลาดโอกาสซื้อขายตัวเลือกฟรีครั้งต่อไปของเรา สมัครรับการซื้อขายฟรีรายวันได้ที่ $nvda $tsla $gs $gild $biib $googl $\n"
     ]
    }
   ],
   "source": [
    "query_id = \"ed0074a8-aa7c-4499-8356-4720a17eb6fb\"\n",
    "pd.set_option('display.max_colwidth', None)\n",
    "query_row = questions[questions['id'] == query_id][\"query\"]\n",
    "print(query_row.to_string(index=False))\n",
    "\n"
   ]
  },
  {
   "cell_type": "code",
   "execution_count": null,
   "id": "59cba899",
   "metadata": {},
   "outputs": [],
   "source": []
  }
 ],
 "metadata": {
  "kernelspec": {
   "display_name": "Python 3 (ipykernel)",
   "language": "python",
   "name": "python3"
  }
 },
 "nbformat": 4,
 "nbformat_minor": 5
}
