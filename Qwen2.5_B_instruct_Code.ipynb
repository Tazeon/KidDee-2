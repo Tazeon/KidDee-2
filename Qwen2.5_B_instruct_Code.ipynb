{
 "cells": [
  {
   "cell_type": "code",
   "execution_count": 1,
   "id": "263d296a",
   "metadata": {},
   "outputs": [],
   "source": [
    "import re\n",
    "import torch\n",
    "import pandas as pd\n",
    "from tqdm import tqdm\n",
    "from transformers import AutoModelForCausalLM, AutoTokenizer"
   ]
  },
  {
   "cell_type": "code",
   "execution_count": 2,
   "id": "5f703a14",
   "metadata": {},
   "outputs": [
    {
     "name": "stdout",
     "output_type": "stream",
     "text": [
      "HF_HUB_CACHE: /data/gus\n",
      "HF_DATASETS_CACHE: /data/gus\n",
      "HF_HOME: /data/gus\n"
     ]
    }
   ],
   "source": [
    "from transformers import AutoTokenizer, AutoModelForCausalLM\n",
    "import os\n",
    "\n",
    "os.environ[\"HF_HOME\"] = \"/data/gus\"            # controls all HF caches\n",
    "os.environ[\"HF_HUB_CACHE\"] = \"/data/gus\"   # models, tokenizers, Hub files\n",
    "os.environ[\"HF_DATASETS_CACHE\"] = \"/data/gus\"  # datasets/Arrow files\n",
    "\n",
    "print(\"HF_HUB_CACHE:\", os.getenv(\"HF_HUB_CACHE\"))\n",
    "print(\"HF_DATASETS_CACHE:\", os.getenv(\"HF_DATASETS_CACHE\"))\n",
    "print(\"HF_HOME:\", os.getenv(\"HF_HOME\"))"
   ]
  },
  {
   "cell_type": "code",
   "execution_count": 3,
   "id": "9e647ef1",
   "metadata": {},
   "outputs": [],
   "source": [
    "import os\n",
    "os.environ[\"TOKENIZERS_PARALLELISM\"] = \"false\"\n",
    "\n",
    "from transformers import AutoTokenizer, AutoModelForCausalLM"
   ]
  },
  {
   "cell_type": "code",
   "execution_count": 5,
   "id": "ec99bc02",
   "metadata": {},
   "outputs": [
    {
     "data": {
      "application/vnd.jupyter.widget-view+json": {
       "model_id": "1c0c9948678845e29d3eba434d91aa54",
       "version_major": 2,
       "version_minor": 0
      },
      "text/plain": [
       "model.safetensors.index.json: 0.00B [00:00, ?B/s]"
      ]
     },
     "metadata": {},
     "output_type": "display_data"
    },
    {
     "data": {
      "application/vnd.jupyter.widget-view+json": {
       "model_id": "5bf6641b4efb4e69bfa5a495f0e8beb8",
       "version_major": 2,
       "version_minor": 0
      },
      "text/plain": [
       "Fetching 4 files:   0%|          | 0/4 [00:00<?, ?it/s]"
      ]
     },
     "metadata": {},
     "output_type": "display_data"
    },
    {
     "data": {
      "application/vnd.jupyter.widget-view+json": {
       "model_id": "21e41e2acbda4e37a71931b59e596249",
       "version_major": 2,
       "version_minor": 0
      },
      "text/plain": [
       "model-00003-of-00004.safetensors:   0%|          | 0.00/3.86G [00:00<?, ?B/s]"
      ]
     },
     "metadata": {},
     "output_type": "display_data"
    },
    {
     "data": {
      "application/vnd.jupyter.widget-view+json": {
       "model_id": "39d844473d944235b7462d0ec97e3d2d",
       "version_major": 2,
       "version_minor": 0
      },
      "text/plain": [
       "model-00002-of-00004.safetensors:   0%|          | 0.00/3.86G [00:00<?, ?B/s]"
      ]
     },
     "metadata": {},
     "output_type": "display_data"
    },
    {
     "data": {
      "application/vnd.jupyter.widget-view+json": {
       "model_id": "f3a63d211a894b52a0f3a8d1a1470298",
       "version_major": 2,
       "version_minor": 0
      },
      "text/plain": [
       "model-00001-of-00004.safetensors:   0%|          | 0.00/3.95G [00:00<?, ?B/s]"
      ]
     },
     "metadata": {},
     "output_type": "display_data"
    },
    {
     "data": {
      "application/vnd.jupyter.widget-view+json": {
       "model_id": "6c72cd47bade41ce8cc983e7cb5fdf98",
       "version_major": 2,
       "version_minor": 0
      },
      "text/plain": [
       "model-00004-of-00004.safetensors:   0%|          | 0.00/3.56G [00:00<?, ?B/s]"
      ]
     },
     "metadata": {},
     "output_type": "display_data"
    },
    {
     "data": {
      "application/vnd.jupyter.widget-view+json": {
       "model_id": "ae4f32c769454e8aba357b974d1ade31",
       "version_major": 2,
       "version_minor": 0
      },
      "text/plain": [
       "Loading checkpoint shards:   0%|          | 0/4 [00:00<?, ?it/s]"
      ]
     },
     "metadata": {},
     "output_type": "display_data"
    },
    {
     "data": {
      "application/vnd.jupyter.widget-view+json": {
       "model_id": "13cc7206160a479f89ed9746a0d85118",
       "version_major": 2,
       "version_minor": 0
      },
      "text/plain": [
       "generation_config.json:   0%|          | 0.00/243 [00:00<?, ?B/s]"
      ]
     },
     "metadata": {},
     "output_type": "display_data"
    }
   ],
   "source": [
    "MODEL_PATH = \"Qwen/Qwen2.5-7B-Instruct\" \n",
    "\n",
    "# โหลด tokenizer พร้อม trust_remote_code=True (จำเป็นสำหรับ Qwen)\n",
    "tokenizer = AutoTokenizer.from_pretrained(MODEL_PATH, trust_remote_code=True)\n",
    "\n",
    "# โหลดโมเดล\n",
    "model = AutoModelForCausalLM.from_pretrained(MODEL_PATH, trust_remote_code=True, device_map=\"auto\", torch_dtype=torch.float16)"
   ]
  },
  {
   "cell_type": "code",
   "execution_count": null,
   "id": "327b60d8",
   "metadata": {},
   "outputs": [],
   "source": [
    "\n",
    "# def inference(messages: list[dict[str, str]], model, tokenizer) -> str:\n",
    "#     # สำหรับ Qwen, apply_chat_template ยังใช้ได้เหมือนเดิม\n",
    "#     text = tokenizer.apply_chat_template(\n",
    "#         messages,\n",
    "#         tokenize=False,\n",
    "#         add_generation_prompt=True,\n",
    "#     )\n",
    "#     model_inputs = tokenizer([text], return_tensors=\"pt\").to(model.device)\n",
    "\n",
    "#     generated_ids = model.generate(\n",
    "#         model_inputs.input_ids,\n",
    "#         max_new_tokens=768,\n",
    "#         do_sample=False,\n",
    "#         temperature=None,\n",
    "#         top_p=None,\n",
    "#         top_k=None,\n",
    "#     )\n",
    "#     generated_ids = [\n",
    "#         output_ids[len(input_ids):]\n",
    "#         for input_ids, output_ids in zip(model_inputs.input_ids, generated_ids)\n",
    "#     ]\n",
    "\n",
    "#     response = tokenizer.batch_decode(generated_ids, skip_special_tokens=True)[0]\n",
    "\n",
    "#     match = re.search(r\"\\b([ABCDE]|Rise|Fall)\\b\", response)\n",
    "#     if match:\n",
    "#         return match.group(0)\n",
    "#     else:\n",
    "#         print(\"Not Match: \", response)\n",
    "#         return \"No valid answer found in the response.\""
   ]
  },
  {
   "cell_type": "code",
   "execution_count": 9,
   "id": "dc840ef6",
   "metadata": {},
   "outputs": [],
   "source": [
    "# Inference Function\n",
    "def inference(messages: list[dict[str, str]], model, tokenizer) -> str:\n",
    "    text = tokenizer.apply_chat_template(\n",
    "        messages,\n",
    "        tokenize=False,\n",
    "        add_generation_prompt=True,\n",
    "    )\n",
    "    model_inputs = tokenizer([text], return_tensors=\"pt\").to(model.device)\n",
    "\n",
    "    generated_ids = model.generate(\n",
    "        model_inputs.input_ids,\n",
    "        max_new_tokens=768,\n",
    "        do_sample=False,\n",
    "        temperature=None,\n",
    "        top_p=None,\n",
    "        top_k=None,\n",
    "    )\n",
    "    generated_ids = [\n",
    "        output_ids[len(input_ids):]\n",
    "        for input_ids, output_ids in zip(model_inputs.input_ids, generated_ids)\n",
    "    ]\n",
    "\n",
    "    response = tokenizer.batch_decode(generated_ids, skip_special_tokens=True)[0]\n",
    "    \n",
    "    # Extract only valid answer (A, B, D, E, Rise, Fall)\n",
    "    \n",
    "    match = re.search(r\"\\b([ABCDE]|Rise|Fall)\\b\", response)\n",
    "    if match:\n",
    "        return match.group(0)\n",
    "    else:\n",
    "        print(\"Not Match: \", response)\n",
    "        return \"No valid answer found in the response.\"\n",
    "    \n"
   ]
  },
  {
   "cell_type": "code",
   "execution_count": 10,
   "id": "1a79ca3a",
   "metadata": {},
   "outputs": [],
   "source": [
    "# โหลดไฟล์คำถาม\n",
    "questions = pd.read_csv(\"/data/data/week10/test.csv\")\n",
    "\n",
    "SYSTEM_PROMPT = \"\"\"\n",
    "You are a highly knowledgeable and structured AI financial analyst.\n",
    "\n",
    "Your role is to carefully analyze a wide range of financial questions, which may include:\n",
    "- Choosing the most appropriate answer from multiple choices (A, B, C, D, Fall, Rise)\n",
    "- Making predictions about financial trends based on provided data\n",
    "- Explaining key economic terms and their impact on the financial question\n",
    "\n",
    "You must always:\n",
    "1. Read and understand the question carefully.\n",
    "2. Identify any key financial terms or data.\n",
    "3. Think step-by-step and logically evaluate all available information.\n",
    "4. If needed, define key concepts briefly.\n",
    "5. Arrive at the most appropriate answer using your reasoning.\n",
    "\n",
    "**Respond using the exact format below (no extra text):**\n",
    "Answer: <A/B/C/D/Fall/Rise>\n",
    "\n",
    "Only respond with the final answer in that exact format.\n",
    "\"\"\"\n"
   ]
  },
  {
   "cell_type": "code",
   "execution_count": 11,
   "id": "dc2cf6be",
   "metadata": {},
   "outputs": [
    {
     "name": "stderr",
     "output_type": "stream",
     "text": [
      "  5%|▌         | 26/499 [00:03<01:01,  7.74it/s]"
     ]
    },
    {
     "name": "stdout",
     "output_type": "stream",
     "text": [
      "Not Match:  Down\n"
     ]
    },
    {
     "name": "stderr",
     "output_type": "stream",
     "text": [
      " 10%|▉         | 49/499 [00:06<00:48,  9.34it/s]"
     ]
    },
    {
     "name": "stdout",
     "output_type": "stream",
     "text": [
      "Not Match:  Down\n"
     ]
    },
    {
     "name": "stderr",
     "output_type": "stream",
     "text": [
      " 29%|██▉       | 147/499 [00:18<00:45,  7.66it/s]"
     ]
    },
    {
     "name": "stdout",
     "output_type": "stream",
     "text": [
      "Not Match:  Answer: 下降\n"
     ]
    },
    {
     "name": "stderr",
     "output_type": "stream",
     "text": [
      " 56%|█████▌    | 279/499 [00:34<00:33,  6.63it/s]"
     ]
    },
    {
     "name": "stdout",
     "output_type": "stream",
     "text": [
      "Not Match:  Answer: ลดลง\n"
     ]
    },
    {
     "name": "stderr",
     "output_type": "stream",
     "text": [
      " 72%|███████▏  | 357/499 [00:45<00:21,  6.75it/s]"
     ]
    },
    {
     "name": "stdout",
     "output_type": "stream",
     "text": [
      "Not Match:  Answer: ลดลง\n"
     ]
    },
    {
     "name": "stderr",
     "output_type": "stream",
     "text": [
      "100%|██████████| 499/499 [01:02<00:00,  7.92it/s]"
     ]
    },
    {
     "name": "stdout",
     "output_type": "stream",
     "text": [
      "                                     id answer\n",
      "0  36deab86-cfd3-48b5-9bea-a36c1b0e63a8      C\n",
      "1  2b5bbd26-45e8-4768-ab8a-b5dc1d153ab7      B\n",
      "2  8a722080-bc16-49db-89c9-100cd61cd28a      A\n",
      "3  75316e95-88f4-4fef-83b9-dde0aa52889a      B\n",
      "4  bcca13bc-2675-4645-82cc-7e4c412ed294   Rise\n"
     ]
    },
    {
     "name": "stderr",
     "output_type": "stream",
     "text": [
      "\n"
     ]
    }
   ],
   "source": [
    "\n",
    "# Inference Loop\n",
    "results = []\n",
    "\n",
    "for row in tqdm(questions.to_dict(orient=\"records\")):\n",
    "    question = row['query']\n",
    "    \n",
    "    messages = [\n",
    "        {\"role\": \"system\", \"content\": SYSTEM_PROMPT},\n",
    "        {\"role\": \"user\", \"content\": question},\n",
    "    ]\n",
    "    \n",
    "    answer = inference(messages, model, tokenizer)\n",
    "    results.append({\"id\": row['id'], \"answer\": answer})\n",
    "\n",
    "# Results DataFrame\n",
    "answer_df = pd.DataFrame(results)\n",
    "print(answer_df.head())\n"
   ]
  },
  {
   "cell_type": "code",
   "execution_count": 12,
   "id": "bc6d00d3",
   "metadata": {},
   "outputs": [
    {
     "data": {
      "application/vnd.microsoft.datawrangler.viewer.v0+json": {
       "columns": [
        {
         "name": "index",
         "rawType": "int64",
         "type": "integer"
        },
        {
         "name": "id",
         "rawType": "object",
         "type": "string"
        },
        {
         "name": "answer",
         "rawType": "object",
         "type": "string"
        }
       ],
       "ref": "f2c3fe3b-56d3-4cd9-a887-64c01688a9d0",
       "rows": [
        [
         "0",
         "36deab86-cfd3-48b5-9bea-a36c1b0e63a8",
         "C"
        ],
        [
         "1",
         "2b5bbd26-45e8-4768-ab8a-b5dc1d153ab7",
         "B"
        ],
        [
         "2",
         "8a722080-bc16-49db-89c9-100cd61cd28a",
         "A"
        ],
        [
         "3",
         "75316e95-88f4-4fef-83b9-dde0aa52889a",
         "B"
        ],
        [
         "4",
         "bcca13bc-2675-4645-82cc-7e4c412ed294",
         "Rise"
        ],
        [
         "5",
         "ff5b5d2e-5fa1-4709-a9a7-681e4d4585bd",
         "C"
        ],
        [
         "6",
         "d7a45917-d0f9-476e-912d-ebc5af9333a1",
         "B"
        ],
        [
         "7",
         "e625dbc8-f448-4c53-9a78-6c3f351b49c3",
         "Rise"
        ],
        [
         "8",
         "9bea42e5-3c21-46dc-93f7-0017f382f7cf",
         "Rise"
        ],
        [
         "9",
         "0925a4d7-8546-46a8-834f-20f58f16bc99",
         "C"
        ],
        [
         "10",
         "dc0aa42f-569d-4277-8149-b645f3cf9888",
         "A"
        ],
        [
         "11",
         "b9964445-c648-4661-ad85-7e5e4cd0feb4",
         "Rise"
        ],
        [
         "12",
         "a803daca-2cab-4d53-be68-c75fb71da84a",
         "Fall"
        ],
        [
         "13",
         "1ca64702-d7d7-4a9a-987a-4e58938a3b96",
         "B"
        ],
        [
         "14",
         "6caca908-0f01-43b8-a2f4-674d30d03891",
         "C"
        ],
        [
         "15",
         "4485f013-35ce-4f02-92a9-ae8299565de5",
         "C"
        ],
        [
         "16",
         "81747de9-22c1-47e7-a6c2-36116f90d772",
         "B"
        ],
        [
         "17",
         "5dca8ccf-cfa3-4b2f-943c-0d4a28cadf46",
         "Rise"
        ],
        [
         "18",
         "aa5ad602-ac8c-428f-8d08-c7170638b851",
         "A"
        ],
        [
         "19",
         "e4eb6222-3aeb-4dec-b5ea-3d66ec2223f3",
         "Rise"
        ],
        [
         "20",
         "864e54f2-c66a-4009-83e7-7c53a817d4a5",
         "C"
        ],
        [
         "21",
         "9c4775a4-f5ca-49e9-815f-d6491ed0612e",
         "B"
        ],
        [
         "22",
         "25027061-c540-4c98-b3a2-f3342ab56179",
         "B"
        ],
        [
         "23",
         "ee2a16e1-1d47-427c-97ae-ad44162984cb",
         "A"
        ],
        [
         "24",
         "f101430b-bbe2-4803-a5ab-691e6295b1f9",
         "No valid answer found in the response."
        ],
        [
         "25",
         "eb23455d-9d29-4e56-b7c1-383a71e1e4cc",
         "D"
        ],
        [
         "26",
         "b0f3c24c-849e-4de9-896b-a3c0b7baa649",
         "D"
        ],
        [
         "27",
         "f259d90e-7120-4459-a814-a456011fc840",
         "Rise"
        ],
        [
         "28",
         "52823831-b62d-4a94-89a0-afbce85815ce",
         "C"
        ],
        [
         "29",
         "9f003d54-1999-4b42-9b85-8b9948ad00d8",
         "Rise"
        ],
        [
         "30",
         "a1c3478a-d9ae-4e50-8feb-6bab95236e70",
         "B"
        ],
        [
         "31",
         "b67007a5-e402-44f3-8310-a03e82aae300",
         "A"
        ],
        [
         "32",
         "18d090c5-fdb3-4432-bc8f-724484060a34",
         "A"
        ],
        [
         "33",
         "07b70d56-3738-4458-b9c6-b49dc48b3541",
         "A"
        ],
        [
         "34",
         "53be4f07-fab4-4536-bc89-044a480d0e67",
         "B"
        ],
        [
         "35",
         "052dd83c-9e8e-47f3-880d-d89a08c9da5e",
         "D"
        ],
        [
         "36",
         "60ac44e1-9dab-4480-8329-473b7b6bc58e",
         "A"
        ],
        [
         "37",
         "686fd450-cef8-49b3-9a3d-fb4a1471ee7b",
         "C"
        ],
        [
         "38",
         "b3879d43-60ad-46c5-930d-5f2296e1311d",
         "A"
        ],
        [
         "39",
         "ca9322b9-83ac-445c-b797-0c0491b99411",
         "A"
        ],
        [
         "40",
         "c5d43d55-3a4d-442e-afa9-4b04bf10ea3a",
         "A"
        ],
        [
         "41",
         "e32c85f9-6dca-46fb-bae4-7b1e929e8304",
         "A"
        ],
        [
         "42",
         "14a8a716-b488-4848-944a-558f54c1e08a",
         "D"
        ],
        [
         "43",
         "9cd693df-44be-42b3-bd28-1dfb7e8f88ed",
         "B"
        ],
        [
         "44",
         "11238893-60fd-4b99-82c1-fa612e2c2f05",
         "C"
        ],
        [
         "45",
         "c6c767fc-efd3-4f39-a79f-0aab65ebbac9",
         "C"
        ],
        [
         "46",
         "63010eac-025c-4be8-bb45-d7b4cbdbea0a",
         "A"
        ],
        [
         "47",
         "9adea360-0371-4a0a-9d16-fbd6117a95d8",
         "No valid answer found in the response."
        ],
        [
         "48",
         "99aa42a2-8b0c-498e-9df2-11f3e5050776",
         "A"
        ],
        [
         "49",
         "8bdaa88e-7426-40cc-8e74-366f75db77a5",
         "D"
        ]
       ],
       "shape": {
        "columns": 2,
        "rows": 499
       }
      },
      "text/html": [
       "<div>\n",
       "<style scoped>\n",
       "    .dataframe tbody tr th:only-of-type {\n",
       "        vertical-align: middle;\n",
       "    }\n",
       "\n",
       "    .dataframe tbody tr th {\n",
       "        vertical-align: top;\n",
       "    }\n",
       "\n",
       "    .dataframe thead th {\n",
       "        text-align: right;\n",
       "    }\n",
       "</style>\n",
       "<table border=\"1\" class=\"dataframe\">\n",
       "  <thead>\n",
       "    <tr style=\"text-align: right;\">\n",
       "      <th></th>\n",
       "      <th>id</th>\n",
       "      <th>answer</th>\n",
       "    </tr>\n",
       "  </thead>\n",
       "  <tbody>\n",
       "    <tr>\n",
       "      <th>0</th>\n",
       "      <td>36deab86-cfd3-48b5-9bea-a36c1b0e63a8</td>\n",
       "      <td>C</td>\n",
       "    </tr>\n",
       "    <tr>\n",
       "      <th>1</th>\n",
       "      <td>2b5bbd26-45e8-4768-ab8a-b5dc1d153ab7</td>\n",
       "      <td>B</td>\n",
       "    </tr>\n",
       "    <tr>\n",
       "      <th>2</th>\n",
       "      <td>8a722080-bc16-49db-89c9-100cd61cd28a</td>\n",
       "      <td>A</td>\n",
       "    </tr>\n",
       "    <tr>\n",
       "      <th>3</th>\n",
       "      <td>75316e95-88f4-4fef-83b9-dde0aa52889a</td>\n",
       "      <td>B</td>\n",
       "    </tr>\n",
       "    <tr>\n",
       "      <th>4</th>\n",
       "      <td>bcca13bc-2675-4645-82cc-7e4c412ed294</td>\n",
       "      <td>Rise</td>\n",
       "    </tr>\n",
       "    <tr>\n",
       "      <th>...</th>\n",
       "      <td>...</td>\n",
       "      <td>...</td>\n",
       "    </tr>\n",
       "    <tr>\n",
       "      <th>494</th>\n",
       "      <td>c9dd262e-405c-4078-baae-262aa48ddcc8</td>\n",
       "      <td>A</td>\n",
       "    </tr>\n",
       "    <tr>\n",
       "      <th>495</th>\n",
       "      <td>73c720b5-1101-4790-af52-3366823e1d32</td>\n",
       "      <td>B</td>\n",
       "    </tr>\n",
       "    <tr>\n",
       "      <th>496</th>\n",
       "      <td>357db18f-d872-416e-a07f-753099853d9c</td>\n",
       "      <td>D</td>\n",
       "    </tr>\n",
       "    <tr>\n",
       "      <th>497</th>\n",
       "      <td>2d8b1419-1c46-4e83-892a-081fb417de38</td>\n",
       "      <td>Rise</td>\n",
       "    </tr>\n",
       "    <tr>\n",
       "      <th>498</th>\n",
       "      <td>0ef677d5-2858-407c-9fd5-49d8afbeaaac</td>\n",
       "      <td>C</td>\n",
       "    </tr>\n",
       "  </tbody>\n",
       "</table>\n",
       "<p>499 rows × 2 columns</p>\n",
       "</div>"
      ],
      "text/plain": [
       "                                       id answer\n",
       "0    36deab86-cfd3-48b5-9bea-a36c1b0e63a8      C\n",
       "1    2b5bbd26-45e8-4768-ab8a-b5dc1d153ab7      B\n",
       "2    8a722080-bc16-49db-89c9-100cd61cd28a      A\n",
       "3    75316e95-88f4-4fef-83b9-dde0aa52889a      B\n",
       "4    bcca13bc-2675-4645-82cc-7e4c412ed294   Rise\n",
       "..                                    ...    ...\n",
       "494  c9dd262e-405c-4078-baae-262aa48ddcc8      A\n",
       "495  73c720b5-1101-4790-af52-3366823e1d32      B\n",
       "496  357db18f-d872-416e-a07f-753099853d9c      D\n",
       "497  2d8b1419-1c46-4e83-892a-081fb417de38   Rise\n",
       "498  0ef677d5-2858-407c-9fd5-49d8afbeaaac      C\n",
       "\n",
       "[499 rows x 2 columns]"
      ]
     },
     "execution_count": 12,
     "metadata": {},
     "output_type": "execute_result"
    }
   ],
   "source": [
    "answer_df"
   ]
  },
  {
   "cell_type": "code",
   "execution_count": 13,
   "id": "e5671907",
   "metadata": {},
   "outputs": [],
   "source": [
    "answer_df.to_csv(\"/data/gus/week8/submission/Test_for_base_gwen2.5_7b_inst.csv\", index=False)"
   ]
  },
  {
   "cell_type": "code",
   "execution_count": 14,
   "id": "1395c3ce",
   "metadata": {},
   "outputs": [
    {
     "data": {
      "application/vnd.microsoft.datawrangler.viewer.v0+json": {
       "columns": [
        {
         "name": "index",
         "rawType": "int64",
         "type": "integer"
        },
        {
         "name": "id",
         "rawType": "object",
         "type": "string"
        },
        {
         "name": "answer",
         "rawType": "object",
         "type": "string"
        }
       ],
       "ref": "cb2e16dd-c965-403d-a078-8e52f59a7e40",
       "rows": [
        [
         "0",
         "36deab86-cfd3-48b5-9bea-a36c1b0e63a8",
         "C"
        ],
        [
         "1",
         "2b5bbd26-45e8-4768-ab8a-b5dc1d153ab7",
         "B"
        ],
        [
         "2",
         "8a722080-bc16-49db-89c9-100cd61cd28a",
         "A"
        ],
        [
         "3",
         "75316e95-88f4-4fef-83b9-dde0aa52889a",
         "B"
        ],
        [
         "4",
         "bcca13bc-2675-4645-82cc-7e4c412ed294",
         "Rise"
        ],
        [
         "5",
         "ff5b5d2e-5fa1-4709-a9a7-681e4d4585bd",
         "C"
        ],
        [
         "6",
         "d7a45917-d0f9-476e-912d-ebc5af9333a1",
         "B"
        ],
        [
         "7",
         "e625dbc8-f448-4c53-9a78-6c3f351b49c3",
         "Rise"
        ],
        [
         "8",
         "9bea42e5-3c21-46dc-93f7-0017f382f7cf",
         "Rise"
        ],
        [
         "9",
         "0925a4d7-8546-46a8-834f-20f58f16bc99",
         "C"
        ],
        [
         "10",
         "dc0aa42f-569d-4277-8149-b645f3cf9888",
         "A"
        ],
        [
         "11",
         "b9964445-c648-4661-ad85-7e5e4cd0feb4",
         "Rise"
        ],
        [
         "12",
         "a803daca-2cab-4d53-be68-c75fb71da84a",
         "Fall"
        ],
        [
         "13",
         "1ca64702-d7d7-4a9a-987a-4e58938a3b96",
         "B"
        ],
        [
         "14",
         "6caca908-0f01-43b8-a2f4-674d30d03891",
         "C"
        ],
        [
         "15",
         "4485f013-35ce-4f02-92a9-ae8299565de5",
         "C"
        ],
        [
         "16",
         "81747de9-22c1-47e7-a6c2-36116f90d772",
         "B"
        ],
        [
         "17",
         "5dca8ccf-cfa3-4b2f-943c-0d4a28cadf46",
         "Rise"
        ],
        [
         "18",
         "aa5ad602-ac8c-428f-8d08-c7170638b851",
         "A"
        ],
        [
         "19",
         "e4eb6222-3aeb-4dec-b5ea-3d66ec2223f3",
         "Rise"
        ],
        [
         "20",
         "864e54f2-c66a-4009-83e7-7c53a817d4a5",
         "C"
        ],
        [
         "21",
         "9c4775a4-f5ca-49e9-815f-d6491ed0612e",
         "B"
        ],
        [
         "22",
         "25027061-c540-4c98-b3a2-f3342ab56179",
         "B"
        ],
        [
         "23",
         "ee2a16e1-1d47-427c-97ae-ad44162984cb",
         "A"
        ],
        [
         "24",
         "f101430b-bbe2-4803-a5ab-691e6295b1f9",
         "No valid answer found in the response."
        ],
        [
         "25",
         "eb23455d-9d29-4e56-b7c1-383a71e1e4cc",
         "D"
        ],
        [
         "26",
         "b0f3c24c-849e-4de9-896b-a3c0b7baa649",
         "D"
        ],
        [
         "27",
         "f259d90e-7120-4459-a814-a456011fc840",
         "Rise"
        ],
        [
         "28",
         "52823831-b62d-4a94-89a0-afbce85815ce",
         "C"
        ],
        [
         "29",
         "9f003d54-1999-4b42-9b85-8b9948ad00d8",
         "Rise"
        ],
        [
         "30",
         "a1c3478a-d9ae-4e50-8feb-6bab95236e70",
         "B"
        ],
        [
         "31",
         "b67007a5-e402-44f3-8310-a03e82aae300",
         "A"
        ],
        [
         "32",
         "18d090c5-fdb3-4432-bc8f-724484060a34",
         "A"
        ],
        [
         "33",
         "07b70d56-3738-4458-b9c6-b49dc48b3541",
         "A"
        ],
        [
         "34",
         "53be4f07-fab4-4536-bc89-044a480d0e67",
         "B"
        ],
        [
         "35",
         "052dd83c-9e8e-47f3-880d-d89a08c9da5e",
         "D"
        ],
        [
         "36",
         "60ac44e1-9dab-4480-8329-473b7b6bc58e",
         "A"
        ],
        [
         "37",
         "686fd450-cef8-49b3-9a3d-fb4a1471ee7b",
         "C"
        ],
        [
         "38",
         "b3879d43-60ad-46c5-930d-5f2296e1311d",
         "A"
        ],
        [
         "39",
         "ca9322b9-83ac-445c-b797-0c0491b99411",
         "A"
        ],
        [
         "40",
         "c5d43d55-3a4d-442e-afa9-4b04bf10ea3a",
         "A"
        ],
        [
         "41",
         "e32c85f9-6dca-46fb-bae4-7b1e929e8304",
         "A"
        ],
        [
         "42",
         "14a8a716-b488-4848-944a-558f54c1e08a",
         "D"
        ],
        [
         "43",
         "9cd693df-44be-42b3-bd28-1dfb7e8f88ed",
         "B"
        ],
        [
         "44",
         "11238893-60fd-4b99-82c1-fa612e2c2f05",
         "C"
        ],
        [
         "45",
         "c6c767fc-efd3-4f39-a79f-0aab65ebbac9",
         "C"
        ],
        [
         "46",
         "63010eac-025c-4be8-bb45-d7b4cbdbea0a",
         "A"
        ],
        [
         "47",
         "9adea360-0371-4a0a-9d16-fbd6117a95d8",
         "No valid answer found in the response."
        ],
        [
         "48",
         "99aa42a2-8b0c-498e-9df2-11f3e5050776",
         "A"
        ],
        [
         "49",
         "8bdaa88e-7426-40cc-8e74-366f75db77a5",
         "D"
        ]
       ],
       "shape": {
        "columns": 2,
        "rows": 499
       }
      },
      "text/html": [
       "<div>\n",
       "<style scoped>\n",
       "    .dataframe tbody tr th:only-of-type {\n",
       "        vertical-align: middle;\n",
       "    }\n",
       "\n",
       "    .dataframe tbody tr th {\n",
       "        vertical-align: top;\n",
       "    }\n",
       "\n",
       "    .dataframe thead th {\n",
       "        text-align: right;\n",
       "    }\n",
       "</style>\n",
       "<table border=\"1\" class=\"dataframe\">\n",
       "  <thead>\n",
       "    <tr style=\"text-align: right;\">\n",
       "      <th></th>\n",
       "      <th>id</th>\n",
       "      <th>answer</th>\n",
       "    </tr>\n",
       "  </thead>\n",
       "  <tbody>\n",
       "    <tr>\n",
       "      <th>0</th>\n",
       "      <td>36deab86-cfd3-48b5-9bea-a36c1b0e63a8</td>\n",
       "      <td>C</td>\n",
       "    </tr>\n",
       "    <tr>\n",
       "      <th>1</th>\n",
       "      <td>2b5bbd26-45e8-4768-ab8a-b5dc1d153ab7</td>\n",
       "      <td>B</td>\n",
       "    </tr>\n",
       "    <tr>\n",
       "      <th>2</th>\n",
       "      <td>8a722080-bc16-49db-89c9-100cd61cd28a</td>\n",
       "      <td>A</td>\n",
       "    </tr>\n",
       "    <tr>\n",
       "      <th>3</th>\n",
       "      <td>75316e95-88f4-4fef-83b9-dde0aa52889a</td>\n",
       "      <td>B</td>\n",
       "    </tr>\n",
       "    <tr>\n",
       "      <th>4</th>\n",
       "      <td>bcca13bc-2675-4645-82cc-7e4c412ed294</td>\n",
       "      <td>Rise</td>\n",
       "    </tr>\n",
       "    <tr>\n",
       "      <th>...</th>\n",
       "      <td>...</td>\n",
       "      <td>...</td>\n",
       "    </tr>\n",
       "    <tr>\n",
       "      <th>494</th>\n",
       "      <td>c9dd262e-405c-4078-baae-262aa48ddcc8</td>\n",
       "      <td>A</td>\n",
       "    </tr>\n",
       "    <tr>\n",
       "      <th>495</th>\n",
       "      <td>73c720b5-1101-4790-af52-3366823e1d32</td>\n",
       "      <td>B</td>\n",
       "    </tr>\n",
       "    <tr>\n",
       "      <th>496</th>\n",
       "      <td>357db18f-d872-416e-a07f-753099853d9c</td>\n",
       "      <td>D</td>\n",
       "    </tr>\n",
       "    <tr>\n",
       "      <th>497</th>\n",
       "      <td>2d8b1419-1c46-4e83-892a-081fb417de38</td>\n",
       "      <td>Rise</td>\n",
       "    </tr>\n",
       "    <tr>\n",
       "      <th>498</th>\n",
       "      <td>0ef677d5-2858-407c-9fd5-49d8afbeaaac</td>\n",
       "      <td>C</td>\n",
       "    </tr>\n",
       "  </tbody>\n",
       "</table>\n",
       "<p>499 rows × 2 columns</p>\n",
       "</div>"
      ],
      "text/plain": [
       "                                       id answer\n",
       "0    36deab86-cfd3-48b5-9bea-a36c1b0e63a8      C\n",
       "1    2b5bbd26-45e8-4768-ab8a-b5dc1d153ab7      B\n",
       "2    8a722080-bc16-49db-89c9-100cd61cd28a      A\n",
       "3    75316e95-88f4-4fef-83b9-dde0aa52889a      B\n",
       "4    bcca13bc-2675-4645-82cc-7e4c412ed294   Rise\n",
       "..                                    ...    ...\n",
       "494  c9dd262e-405c-4078-baae-262aa48ddcc8      A\n",
       "495  73c720b5-1101-4790-af52-3366823e1d32      B\n",
       "496  357db18f-d872-416e-a07f-753099853d9c      D\n",
       "497  2d8b1419-1c46-4e83-892a-081fb417de38   Rise\n",
       "498  0ef677d5-2858-407c-9fd5-49d8afbeaaac      C\n",
       "\n",
       "[499 rows x 2 columns]"
      ]
     },
     "execution_count": 14,
     "metadata": {},
     "output_type": "execute_result"
    }
   ],
   "source": [
    "answer_df"
   ]
  },
  {
   "cell_type": "code",
   "execution_count": null,
   "id": "94c588e8",
   "metadata": {},
   "outputs": [],
   "source": []
  }
 ],
 "metadata": {
  "kernelspec": {
   "display_name": "CC",
   "language": "python",
   "name": "python3"
  },
  "language_info": {
   "codemirror_mode": {
    "name": "ipython",
    "version": 3
   },
   "file_extension": ".py",
   "mimetype": "text/x-python",
   "name": "python",
   "nbconvert_exporter": "python",
   "pygments_lexer": "ipython3",
   "version": "3.11.13"
  }
 },
 "nbformat": 4,
 "nbformat_minor": 5
}
